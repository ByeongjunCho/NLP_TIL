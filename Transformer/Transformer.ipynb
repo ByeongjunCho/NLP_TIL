{
 "cells": [
  {
   "cell_type": "markdown",
   "metadata": {},
   "source": [
    "# Attention is All You Need를 카피코딩하면서 공부\n",
    "참고 [The Annotated Transformer](https://paul-hyun.github.io/transformer-01/)\n",
    "* Pytorch로 구성되어 있음"
   ]
  },
  {
   "cell_type": "code",
   "execution_count": 37,
   "metadata": {},
   "outputs": [],
   "source": [
    "import sentencepiece as spm\n",
    "import numpy as np\n",
    "import matplotlib.pyplot as plt\n",
    "import torch\n",
    "import torch.nn as nn\n",
    "import torch.nn.functional as F"
   ]
  },
  {
   "cell_type": "markdown",
   "metadata": {},
   "source": [
    "# 1. Vocab\n",
    "Sentencepiece를 활용한 Vocab 만들기 예제를 통해 만든 vocab을 이용해 텍스트를 입력 tensor로 변경"
   ]
  },
  {
   "cell_type": "code",
   "execution_count": 2,
   "metadata": {},
   "outputs": [
    {
     "name": "stdout",
     "output_type": "stream",
     "text": [
      "pieces:  ['▁겨울', '은', '▁추', '워', '요', '.']\n",
      "ids:  [3091, 3604, 206, 3958, 3760, 3590]\n",
      "pieces:  ['▁감', '기', '▁조', '심', '하', '세', '요', '.']\n",
      "ids:  [212, 3605, 53, 3832, 3596, 3682, 3760, 3590]\n",
      "pieces:  ['▁이', '거', '▁왜', '▁이렇게', '▁어려', '운', '▁거', '에', '요', '?']\n",
      "ids:  [8, 3729, 1837, 2404, 1748, 3750, 117, 3591, 3760, 4245]\n",
      "torch.Size([3, 10])\n",
      "tensor([[3091, 3604,  206, 3958, 3760, 3590,    0,    0,    0,    0],\n",
      "        [ 212, 3605,   53, 3832, 3596, 3682, 3760, 3590,    0,    0],\n",
      "        [   8, 3729, 1837, 2404, 1748, 3750,  117, 3591, 3760, 4245]])\n"
     ]
    }
   ],
   "source": [
    "# vocab loading\n",
    "vocab_file = \"../Sentencepiece/kowiki.model\"\n",
    "vocab = spm.SentencePieceProcessor()\n",
    "vocab.load(vocab_file)\n",
    "\n",
    "# 입력 texts\n",
    "lines = [\n",
    "  \"겨울은 추워요.\",\n",
    "  \"감기 조심하세요.\",\n",
    "    \" 이거 왜 이렇게 어려운 거에요?\"\n",
    "]\n",
    "\n",
    "# text를 tensor로 변환\n",
    "inputs = []\n",
    "for line in lines:\n",
    "    pieces = vocab.encode_as_pieces(line)\n",
    "    print(\"pieces: \", pieces)\n",
    "    ids = vocab.encode_as_ids(line)\n",
    "    print(\"ids: \",ids)\n",
    "    inputs.append(torch.tensor(ids))\n",
    "\n",
    "# 입력 길이가 다르므로 입력 최대길이에 맞춰 padding(0)을 추가\n",
    "inputs = torch.nn.utils.rnn.pad_sequence(inputs, batch_first=True, padding_value=0)\n",
    "# shape\n",
    "print(inputs.size())\n",
    "# 값\n",
    "print(inputs)"
   ]
  },
  {
   "cell_type": "markdown",
   "metadata": {},
   "source": [
    "# 2. Embedding\n",
    "Transformer의 Embedding은 'Input Embedding'과 'Position Embedding'두가지를 합해 사용"
   ]
  },
  {
   "cell_type": "markdown",
   "metadata": {},
   "source": [
    "## Input Embedding\n",
    "입력 토큰을 vector 형태로 변환"
   ]
  },
  {
   "cell_type": "code",
   "execution_count": 3,
   "metadata": {},
   "outputs": [
    {
     "name": "stdout",
     "output_type": "stream",
     "text": [
      "torch.Size([3, 10, 128])\n"
     ]
    }
   ],
   "source": [
    "n_vocab = len(vocab)\n",
    "d_hidn = 128 # hidden size\n",
    "nn_emb = nn.Embedding(n_vocab, d_hidn)\n",
    "\n",
    "input_embs = nn_emb(inputs) # input embedding\n",
    "print(input_embs.size())"
   ]
  },
  {
   "cell_type": "markdown",
   "metadata": {},
   "source": [
    "## Position Embedding\n",
    "1. 각 position별로 angle 값을 구한다.\n",
    "2. 구해진 angle중 2k index에는 sin값을, 2k+1 index에는 cos값을 구한다."
   ]
  },
  {
   "cell_type": "markdown",
   "metadata": {},
   "source": [
    "![Position Encoding](./img/position_encoding.png)"
   ]
  },
  {
   "cell_type": "code",
   "execution_count": 4,
   "metadata": {},
   "outputs": [],
   "source": [
    "\"\"\" sinusoid position embedding \"\"\"\n",
    "def get_sinusoid_encoding_table(n_seq, d_hidn):\n",
    "    def cal_angle(position, i_hidn):\n",
    "        return position / np.power(10000, 2*(i_hidn // 2) / d_hidn)\n",
    "    def get_posi_angle_vec(position):\n",
    "        return [cal_angle(position, i_hidn) for i_hidn in range(d_hidn)]\n",
    "    \n",
    "    sinusoid_table = np.array([get_posi_angle_vec(i_seq) for i_seq in range(n_seq)])\n",
    "    sinusoid_table[:, 0::2] = np.sin(sinusoid_table[:, 0::2])  # even index sin \n",
    "    sinusoid_table[:, 1::2] = np.cos(sinusoid_table[:, 1::2])  # odd index cos\n",
    "\n",
    "    return sinusoid_table"
   ]
  },
  {
   "cell_type": "code",
   "execution_count": 5,
   "metadata": {},
   "outputs": [
    {
     "name": "stdout",
     "output_type": "stream",
     "text": [
      "(64, 128)\n"
     ]
    },
    {
     "data": {
      "image/png": "[encoded data removed]",
      "text/plain": [
       "<Figure size 432x288 with 2 Axes>"
      ]
     },
     "metadata": {
      "needs_background": "light"
     },
     "output_type": "display_data"
    }
   ],
   "source": [
    "n_seq = 64\n",
    "pos_encoding = get_sinusoid_encoding_table(n_seq, d_hidn)\n",
    "\n",
    "print(pos_encoding.shape)\n",
    "plt.pcolormesh(pos_encoding, cmap='RdBu')\n",
    "plt.xlabel('Depth')\n",
    "plt.xlim((0, d_hidn))\n",
    "plt.ylabel('Position')\n",
    "plt.colorbar()\n",
    "plt.show()"
   ]
  },
  {
   "cell_type": "markdown",
   "metadata": {},
   "source": [
    "position embedding 값을 구하는 법\n",
    "1. 위에서 구한 position encoding 값을 이용해 position embedding을 생성한다. 학습되는 값이 아니므로 freeze 옵션을 True로 설정한다.\n",
    "2. 입력 inputs와 동일한 크기를 갖는 positions값을 구한다.\n",
    "3. input값 중 pad(0)인 부분을 찾아 position값중 pad부분을 0으로 변경한다.\n",
    "4. positions값에 해당하는 embedding값을 구한다."
   ]
  },
  {
   "cell_type": "code",
   "execution_count": 6,
   "metadata": {},
   "outputs": [
    {
     "name": "stdout",
     "output_type": "stream",
     "text": [
      "tensor([[3091, 3604,  206, 3958, 3760, 3590,    0,    0,    0,    0],\n",
      "        [ 212, 3605,   53, 3832, 3596, 3682, 3760, 3590,    0,    0],\n",
      "        [   8, 3729, 1837, 2404, 1748, 3750,  117, 3591, 3760, 4245]])\n",
      "tensor([[ 1,  2,  3,  4,  5,  6,  0,  0,  0,  0],\n",
      "        [ 1,  2,  3,  4,  5,  6,  7,  8,  0,  0],\n",
      "        [ 1,  2,  3,  4,  5,  6,  7,  8,  9, 10]])\n",
      "torch.Size([3, 10, 128])\n"
     ]
    }
   ],
   "source": [
    "pos_encoding = torch.FloatTensor(pos_encoding) #(64, 128)\n",
    "# 1. position embedding을 생성(freeze=True)\n",
    "nn_pos = nn.Embedding.from_pretrained(pos_encoding, freeze=True)\n",
    "\n",
    "# 2. 입력 크기와 동일한 positions 값을 구한다.\n",
    "positions = torch.arange(inputs.size(1), device=inputs.device, dtype=inputs.dtype).expand(inputs.size(0), inputs.size(1)).contiguous() + 1\n",
    "pos_mask = inputs.eq(0)\n",
    "\n",
    "# 3. input값 중 pad==0인 부분을 찾아 position값중 pad==0인 부분을 0으로 변경한다.\n",
    "positions.masked_fill_(pos_mask, 0)\n",
    "pos_embs = nn_pos(positions) # position embedding\n",
    "\n",
    "print(inputs)\n",
    "print(positions)\n",
    "print(pos_embs.size())"
   ]
  },
  {
   "cell_type": "markdown",
   "metadata": {},
   "source": [
    "### position_embedding의 shape와 input_embedding shape는 동일하다.\n",
    "### 최종 입력값은 input_embs+pos_embs가 된다."
   ]
  },
  {
   "cell_type": "code",
   "execution_count": 7,
   "metadata": {},
   "outputs": [],
   "source": [
    "input_sums = input_embs + pos_embs"
   ]
  },
  {
   "cell_type": "markdown",
   "metadata": {},
   "source": [
    "# 3. Scale Dot Product Attention\n",
    "![Scale Dot Product Attention](./img/scale_dot_product_attention.png)"
   ]
  },
  {
   "cell_type": "markdown",
   "metadata": {},
   "source": [
    "### 3 입력값\n",
    "입력값은 Q(query), K(key), V(value), attention mask로 구성되어 있다.  \n",
    "입력값 중 K,V는 같은 값이다.  \n",
    "Q, K, V가 모두 동일한 경우는 self attention이라고 한다.  "
   ]
  },
  {
   "cell_type": "code",
   "execution_count": 8,
   "metadata": {},
   "outputs": [
    {
     "name": "stdout",
     "output_type": "stream",
     "text": [
      "torch.Size([3, 10, 10])\n",
      "tensor([[False, False, False, False, False, False,  True,  True,  True,  True],\n",
      "        [False, False, False, False, False, False,  True,  True,  True,  True],\n",
      "        [False, False, False, False, False, False,  True,  True,  True,  True],\n",
      "        [False, False, False, False, False, False,  True,  True,  True,  True],\n",
      "        [False, False, False, False, False, False,  True,  True,  True,  True],\n",
      "        [False, False, False, False, False, False,  True,  True,  True,  True],\n",
      "        [False, False, False, False, False, False,  True,  True,  True,  True],\n",
      "        [False, False, False, False, False, False,  True,  True,  True,  True],\n",
      "        [False, False, False, False, False, False,  True,  True,  True,  True],\n",
      "        [False, False, False, False, False, False,  True,  True,  True,  True]])\n"
     ]
    }
   ],
   "source": [
    "Q = input_sums\n",
    "K = input_sums\n",
    "V = input_sums\n",
    "attn_mask = inputs.eq(0).unsqueeze(1).expand(Q.size(0), Q.size(1), K.size(1))\n",
    "print(attn_mask.size())\n",
    "print(attn_mask[0])"
   ]
  },
  {
   "cell_type": "markdown",
   "metadata": {},
   "source": [
    "### 3.1. MatMul Q, K-transpose\n",
    "![Scale Dot Product Attention](./img/scale_dot_product_attention.png)\n",
    "1번 Q와 K를 MatMul"
   ]
  },
  {
   "cell_type": "markdown",
   "metadata": {},
   "source": [
    "### 3차원 tensor Matmul 예시"
   ]
  },
  {
   "cell_type": "code",
   "execution_count": 9,
   "metadata": {},
   "outputs": [
    {
     "name": "stdout",
     "output_type": "stream",
     "text": [
      "torch.Size([2, 2, 3])\n",
      "torch.Size([2, 3, 2])\n",
      "tensor([[[ 4,  8],\n",
      "         [ 8, 16]],\n",
      "\n",
      "        [[24, 12],\n",
      "         [32, 16]]], dtype=torch.int32)\n"
     ]
    }
   ],
   "source": [
    "a = np.array([[[1,2,1],[3,4,1]], [[5,6,1],[7,8,1]]])\n",
    "b = np.array([[[1,2], [1,2], [1, 2]], [[2,1], [2,1], [2,1]]])\n",
    "a = torch.IntTensor(a)\n",
    "b = torch.IntTensor(b)\n",
    "print(a.size())\n",
    "print(b.size())\n",
    "print(torch.matmul(a, b))"
   ]
  },
  {
   "cell_type": "code",
   "execution_count": 10,
   "metadata": {},
   "outputs": [
    {
     "name": "stdout",
     "output_type": "stream",
     "text": [
      "torch.Size([3, 10, 10])\n",
      "tensor([[186.0099,  72.6959,  56.5929,  59.3229,  41.3768,  40.4290,  53.6514,\n",
      "          53.6514,  53.6514,  53.6514],\n",
      "        [ 72.6959, 206.5309,  60.9147,  60.5143,  38.2892,  31.8994,  64.3707,\n",
      "          64.3707,  64.3707,  64.3707],\n",
      "        [ 56.5929,  60.9147, 193.5105,  46.8016,  45.1292,  42.6879,  76.3111,\n",
      "          76.3111,  76.3111,  76.3111],\n",
      "        [ 59.3229,  60.5143,  46.8016, 172.3411,  70.3230,  37.0118,  44.8177,\n",
      "          44.8177,  44.8177,  44.8177],\n",
      "        [ 41.3768,  38.2892,  45.1292,  70.3230, 187.4210,  39.2991,  41.9575,\n",
      "          41.9575,  41.9575,  41.9575],\n",
      "        [ 40.4290,  31.8994,  42.6879,  37.0118,  39.2991, 166.1600,  47.3955,\n",
      "          47.3955,  47.3955,  47.3955],\n",
      "        [ 53.6514,  64.3707,  76.3111,  44.8177,  41.9575,  47.3955, 188.3397,\n",
      "         188.3397, 188.3398, 188.3398],\n",
      "        [ 53.6514,  64.3707,  76.3111,  44.8177,  41.9575,  47.3955, 188.3397,\n",
      "         188.3397, 188.3398, 188.3398],\n",
      "        [ 53.6514,  64.3707,  76.3111,  44.8177,  41.9575,  47.3955, 188.3397,\n",
      "         188.3397, 188.3397, 188.3397],\n",
      "        [ 53.6514,  64.3707,  76.3111,  44.8177,  41.9575,  47.3955, 188.3397,\n",
      "         188.3397, 188.3397, 188.3397]], grad_fn=<SelectBackward>)\n"
     ]
    }
   ],
   "source": [
    "scores = torch.matmul(Q, K.transpose(-1, -2))\n",
    "print(scores.size())\n",
    "print(scores[0])"
   ]
  },
  {
   "cell_type": "markdown",
   "metadata": {},
   "source": [
    "### 3.2 Scale\n",
    "![Scale Dot Product Attention](./img/scale_dot_product_attention.png)\n",
    "2번과 같이 k-dim에 루트를 취한 값으로 나누어준다."
   ]
  },
  {
   "cell_type": "code",
   "execution_count": 11,
   "metadata": {},
   "outputs": [
    {
     "name": "stdout",
     "output_type": "stream",
     "text": [
      "torch.Size([3, 10, 10])\n",
      "tensor([[23.2512,  9.0870,  7.0741,  7.4154,  5.1721,  5.0536,  6.7064,  6.7064,\n",
      "          6.7064,  6.7064],\n",
      "        [ 9.0870, 25.8164,  7.6143,  7.5643,  4.7862,  3.9874,  8.0463,  8.0463,\n",
      "          8.0463,  8.0463],\n",
      "        [ 7.0741,  7.6143, 24.1888,  5.8502,  5.6412,  5.3360,  9.5389,  9.5389,\n",
      "          9.5389,  9.5389],\n",
      "        [ 7.4154,  7.5643,  5.8502, 21.5426,  8.7904,  4.6265,  5.6022,  5.6022,\n",
      "          5.6022,  5.6022],\n",
      "        [ 5.1721,  4.7862,  5.6412,  8.7904, 23.4276,  4.9124,  5.2447,  5.2447,\n",
      "          5.2447,  5.2447],\n",
      "        [ 5.0536,  3.9874,  5.3360,  4.6265,  4.9124, 20.7700,  5.9244,  5.9244,\n",
      "          5.9244,  5.9244],\n",
      "        [ 6.7064,  8.0463,  9.5389,  5.6022,  5.2447,  5.9244, 23.5425, 23.5425,\n",
      "         23.5425, 23.5425],\n",
      "        [ 6.7064,  8.0463,  9.5389,  5.6022,  5.2447,  5.9244, 23.5425, 23.5425,\n",
      "         23.5425, 23.5425],\n",
      "        [ 6.7064,  8.0463,  9.5389,  5.6022,  5.2447,  5.9244, 23.5425, 23.5425,\n",
      "         23.5425, 23.5425],\n",
      "        [ 6.7064,  8.0463,  9.5389,  5.6022,  5.2447,  5.9244, 23.5425, 23.5425,\n",
      "         23.5425, 23.5425]], grad_fn=<SelectBackward>)\n"
     ]
    }
   ],
   "source": [
    "d_head = 64\n",
    "scores = scores.mul_(1/d_head**0.5)\n",
    "print(scores.size())\n",
    "print(scores[0])"
   ]
  },
  {
   "cell_type": "markdown",
   "metadata": {},
   "source": [
    "### 3.3 Mask (Opt.)\n",
    "![Scale Dot Product Attention](./img/scale_dot_product_attention.png)\n",
    "3번 mask를 하는 코드"
   ]
  },
  {
   "cell_type": "code",
   "execution_count": 12,
   "metadata": {},
   "outputs": [
    {
     "name": "stdout",
     "output_type": "stream",
     "text": [
      "torch.Size([3, 10, 10])\n",
      "tensor([[ 2.3251e+01,  9.0870e+00,  7.0741e+00,  7.4154e+00,  5.1721e+00,\n",
      "          5.0536e+00, -1.0000e+09, -1.0000e+09, -1.0000e+09, -1.0000e+09],\n",
      "        [ 9.0870e+00,  2.5816e+01,  7.6143e+00,  7.5643e+00,  4.7862e+00,\n",
      "          3.9874e+00, -1.0000e+09, -1.0000e+09, -1.0000e+09, -1.0000e+09],\n",
      "        [ 7.0741e+00,  7.6143e+00,  2.4189e+01,  5.8502e+00,  5.6412e+00,\n",
      "          5.3360e+00, -1.0000e+09, -1.0000e+09, -1.0000e+09, -1.0000e+09],\n",
      "        [ 7.4154e+00,  7.5643e+00,  5.8502e+00,  2.1543e+01,  8.7904e+00,\n",
      "          4.6265e+00, -1.0000e+09, -1.0000e+09, -1.0000e+09, -1.0000e+09],\n",
      "        [ 5.1721e+00,  4.7862e+00,  5.6412e+00,  8.7904e+00,  2.3428e+01,\n",
      "          4.9124e+00, -1.0000e+09, -1.0000e+09, -1.0000e+09, -1.0000e+09],\n",
      "        [ 5.0536e+00,  3.9874e+00,  5.3360e+00,  4.6265e+00,  4.9124e+00,\n",
      "          2.0770e+01, -1.0000e+09, -1.0000e+09, -1.0000e+09, -1.0000e+09],\n",
      "        [ 6.7064e+00,  8.0463e+00,  9.5389e+00,  5.6022e+00,  5.2447e+00,\n",
      "          5.9244e+00, -1.0000e+09, -1.0000e+09, -1.0000e+09, -1.0000e+09],\n",
      "        [ 6.7064e+00,  8.0463e+00,  9.5389e+00,  5.6022e+00,  5.2447e+00,\n",
      "          5.9244e+00, -1.0000e+09, -1.0000e+09, -1.0000e+09, -1.0000e+09],\n",
      "        [ 6.7064e+00,  8.0463e+00,  9.5389e+00,  5.6022e+00,  5.2447e+00,\n",
      "          5.9244e+00, -1.0000e+09, -1.0000e+09, -1.0000e+09, -1.0000e+09],\n",
      "        [ 6.7064e+00,  8.0463e+00,  9.5389e+00,  5.6022e+00,  5.2447e+00,\n",
      "          5.9244e+00, -1.0000e+09, -1.0000e+09, -1.0000e+09, -1.0000e+09]],\n",
      "       grad_fn=<SelectBackward>)\n"
     ]
    }
   ],
   "source": [
    "scores.masked_fill_(attn_mask, -1e9)\n",
    "print(scores.size())\n",
    "print(scores[0])"
   ]
  },
  {
   "cell_type": "markdown",
   "metadata": {},
   "source": [
    "### 3.4 Softmax\n",
    "![Scale Dot Product Attention](./img/scale_dot_product_attention.png)\n",
    "4번 Softmax"
   ]
  },
  {
   "cell_type": "code",
   "execution_count": 13,
   "metadata": {},
   "outputs": [
    {
     "name": "stdout",
     "output_type": "stream",
     "text": [
      "torch.Size([3, 10, 10])\n",
      "tensor([[1.0000e+00, 7.0557e-07, 9.4268e-08, 1.3261e-07, 1.4071e-08, 1.2499e-08,\n",
      "         0.0000e+00, 0.0000e+00, 0.0000e+00, 0.0000e+00],\n",
      "        [5.4265e-08, 1.0000e+00, 1.2444e-08, 1.1836e-08, 7.3569e-10, 3.3099e-10,\n",
      "         0.0000e+00, 0.0000e+00, 0.0000e+00, 0.0000e+00],\n",
      "        [3.6913e-08, 6.3358e-08, 1.0000e+00, 1.0855e-08, 8.8076e-09, 6.4912e-09,\n",
      "         0.0000e+00, 0.0000e+00, 0.0000e+00, 0.0000e+00],\n",
      "        [7.3215e-07, 8.4972e-07, 1.5306e-07, 1.0000e+00, 2.8957e-06, 4.5019e-08,\n",
      "         0.0000e+00, 0.0000e+00, 0.0000e+00, 0.0000e+00],\n",
      "        [1.1796e-08, 8.0188e-09, 1.8855e-08, 4.3966e-07, 1.0000e+00, 9.0978e-09,\n",
      "         0.0000e+00, 0.0000e+00, 0.0000e+00, 0.0000e+00],\n",
      "        [1.4944e-07, 5.1454e-08, 1.9819e-07, 9.7489e-08, 1.2976e-07, 1.0000e+00,\n",
      "         0.0000e+00, 0.0000e+00, 0.0000e+00, 0.0000e+00],\n",
      "        [4.3808e-02, 1.6729e-01, 7.4418e-01, 1.4521e-02, 1.0156e-02, 2.0042e-02,\n",
      "         0.0000e+00, 0.0000e+00, 0.0000e+00, 0.0000e+00],\n",
      "        [4.3808e-02, 1.6729e-01, 7.4418e-01, 1.4521e-02, 1.0156e-02, 2.0042e-02,\n",
      "         0.0000e+00, 0.0000e+00, 0.0000e+00, 0.0000e+00],\n",
      "        [4.3808e-02, 1.6729e-01, 7.4418e-01, 1.4521e-02, 1.0156e-02, 2.0042e-02,\n",
      "         0.0000e+00, 0.0000e+00, 0.0000e+00, 0.0000e+00],\n",
      "        [4.3808e-02, 1.6729e-01, 7.4418e-01, 1.4521e-02, 1.0156e-02, 2.0042e-02,\n",
      "         0.0000e+00, 0.0000e+00, 0.0000e+00, 0.0000e+00]],\n",
      "       grad_fn=<SelectBackward>)\n"
     ]
    }
   ],
   "source": [
    "attn_prob = nn.Softmax(dim=-1)(scores)\n",
    "print(attn_prob.size())\n",
    "print(attn_prob[0])"
   ]
  },
  {
   "cell_type": "markdown",
   "metadata": {},
   "source": [
    "### 3.5 MatMul attn_prov, V\n",
    "![Scale Dot Product Attention](./img/scale_dot_product_attention.png)\n",
    "5번"
   ]
  },
  {
   "cell_type": "code",
   "execution_count": 14,
   "metadata": {},
   "outputs": [
    {
     "name": "stdout",
     "output_type": "stream",
     "text": [
      "torch.Size([3, 10, 128])\n"
     ]
    }
   ],
   "source": [
    "context = torch.matmul(attn_prob, V)\n",
    "print(context.size())"
   ]
  },
  {
   "cell_type": "markdown",
   "metadata": {},
   "source": [
    "### Scale Dot Product Attention Class 구현\n",
    "![Scale Dot Product Attention](./img/scale_dot_product_attention.png)"
   ]
  },
  {
   "cell_type": "code",
   "execution_count": 27,
   "metadata": {},
   "outputs": [],
   "source": [
    "\"\"\" scale dot product attention \"\"\"\n",
    "class ScaledDotProductAttention(nn.Module):\n",
    "    def __init__(self, d_head):\n",
    "        super().__init__()\n",
    "        self.scale = 1 / (d_head ** 0.5)\n",
    "    \n",
    "    def forward(self, Q, K, V, attn_mask):\n",
    "        # 1, 2번\n",
    "        scores = torch.matmul(Q, K.transpose(-1, -2)).mul_(self.scale) # (bs, n_head, n_q_seq, n_k_seq)\n",
    "        # 3번\n",
    "        scores.masked_fill_(attn_mask, -1e9) # (bs, n_head, n_q_seq, n_k_seq)\n",
    "        # 4번\n",
    "        attn_prob = nn.Softmax(dim=-1)(scores) # (bs, n_head, n_q_seq, n_k_seq)\n",
    "        # 5번\n",
    "        context = torch.matmul(attn_prob, V) # (bs, n_head, n_q_seq, v_dim)\n",
    "        \n",
    "        return context, attn_prob"
   ]
  },
  {
   "cell_type": "markdown",
   "metadata": {},
   "source": [
    "# 4. Multi Head attention\n",
    "![Multi Head Attention](./img/multi_head_attention.png)\n",
    "### 입력\n",
    "Q, K, V, attn_mask는 Scale Dot Product Attention과 동일하다."
   ]
  },
  {
   "cell_type": "code",
   "execution_count": 16,
   "metadata": {},
   "outputs": [],
   "source": [
    "Q = input_sums\n",
    "K = input_sums\n",
    "V = input_sums\n",
    "attn_mask = inputs.eq(0).unsqueeze(1).expand(Q.size(0), Q.size(1), K.size(1))\n",
    "\n",
    "batch_size = Q.size(0)\n",
    "n_head = 2"
   ]
  },
  {
   "cell_type": "markdown",
   "metadata": {},
   "source": [
    "### Multi Head Q, K, V\n",
    "![예시](./img/multi_head.png)\n",
    "1번 Q를 여러개의 head로 나누는 과정"
   ]
  },
  {
   "cell_type": "code",
   "execution_count": 17,
   "metadata": {},
   "outputs": [
    {
     "name": "stdout",
     "output_type": "stream",
     "text": [
      "torch.Size([3, 10, 128])\n",
      "torch.Size([3, 10, 2, 64])\n",
      "torch.Size([3, 2, 10, 64])\n"
     ]
    }
   ],
   "source": [
    "W_Q = nn.Linear(d_hidn, n_head * d_head)\n",
    "W_K = nn.Linear(d_hidn, n_head * d_head)\n",
    "W_V = nn.Linear(d_hidn, n_head * d_head)\n",
    "\n",
    "q_s = W_Q(Q) # (bs, n_seq, n_head * d_head)\n",
    "print(q_s.size())\n",
    "q_s = q_s.view(batch_size, -1, n_head, d_head) # (bs, n_seq, n_head, d_head)\n",
    "print(q_s.size())\n",
    "q_s = q_s.transpose(1,2)  # (bs, n_head, n_seq, d_head)\n",
    "print(q_s.size())"
   ]
  },
  {
   "cell_type": "markdown",
   "metadata": {},
   "source": [
    "위 과정을 한줄로 표현할 수 있다."
   ]
  },
  {
   "cell_type": "code",
   "execution_count": 18,
   "metadata": {},
   "outputs": [
    {
     "name": "stdout",
     "output_type": "stream",
     "text": [
      "torch.Size([3, 2, 10, 64]) torch.Size([3, 2, 10, 64]) torch.Size([3, 2, 10, 64])\n"
     ]
    }
   ],
   "source": [
    "q_s = W_Q(Q).view(batch_size, -1, n_head, d_head).transpose(1,2) # (bs, n_head, n_seq, d_head)\n",
    "k_s = W_K(K).view(batch_size, -1, n_head, d_head).transpose(1,2) # (bs, n_head, n_seq, d_head)\n",
    "v_s = W_V(V).view(batch_size, -1, n_head, d_head).transpose(1,2) # (bs, n_head, n_seq, d_head)\n",
    "print(q_s.size(), k_s.size(), v_s.size())"
   ]
  },
  {
   "cell_type": "markdown",
   "metadata": {},
   "source": [
    "![Scale Dot Product Attention](./img/scale_dot_product_attention.png)\n",
    "Attention Mask도 Multi Head로 변경"
   ]
  },
  {
   "cell_type": "code",
   "execution_count": 19,
   "metadata": {},
   "outputs": [
    {
     "name": "stdout",
     "output_type": "stream",
     "text": [
      "torch.Size([3, 10, 10])\n",
      "torch.Size([3, 2, 10, 10])\n"
     ]
    }
   ],
   "source": [
    "print(attn_mask.size())\n",
    "attn_mask = attn_mask.unsqueeze(1).repeat(1, n_head, 1, 1)\n",
    "print(attn_mask.size()) # (bs, n_head, Q_sqe, K_seq)"
   ]
  },
  {
   "cell_type": "markdown",
   "metadata": {},
   "source": [
    "### 4.4 Attention 과정\n",
    "![Multi Head Attention](./img/multi_head_attention.png)\n",
    "4번 Attention과정"
   ]
  },
  {
   "cell_type": "code",
   "execution_count": 23,
   "metadata": {},
   "outputs": [
    {
     "name": "stdout",
     "output_type": "stream",
     "text": [
      "torch.Size([3, 2, 10, 64])\n",
      "torch.Size([3, 2, 10, 10])\n"
     ]
    }
   ],
   "source": [
    "scaled_dot_attn = ScaledDotProductAttention(d_head)\n",
    "# 1, 2, 3을 통과한 데이터를 4에 넣어주는 과정\n",
    "context, attn_prob = scaled_dot_attn(q_s, k_s, v_s, attn_mask)\n",
    "print(context.size())\n",
    "print(attn_prob.size())"
   ]
  },
  {
   "cell_type": "markdown",
   "metadata": {},
   "source": [
    "### 5번 Concat 과정\n",
    "Scale Dot Product Attention 과정을 거쳐서 나온 h개수만큼의 head 를 결합한다."
   ]
  },
  {
   "cell_type": "code",
   "execution_count": 24,
   "metadata": {},
   "outputs": [
    {
     "name": "stdout",
     "output_type": "stream",
     "text": [
      "torch.Size([3, 10, 128])\n"
     ]
    }
   ],
   "source": [
    "context = context.transpose(1, 2).contiguous().view(batch_size, -1, n_head * d_head) # (bs, n_seq, n_head * d_head)\n",
    "print(context.size())"
   ]
  },
  {
   "cell_type": "markdown",
   "metadata": {},
   "source": [
    "### 6번 Liner"
   ]
  },
  {
   "cell_type": "code",
   "execution_count": 26,
   "metadata": {},
   "outputs": [
    {
     "name": "stdout",
     "output_type": "stream",
     "text": [
      "torch.Size([3, 10, 128])\n"
     ]
    }
   ],
   "source": [
    "linear = nn.Linear(n_head * d_head, d_hidn)\n",
    "output = linear(context) # (bs, n_seq, d_hidn)\n",
    "print(output.size())"
   ]
  },
  {
   "cell_type": "markdown",
   "metadata": {},
   "source": [
    "# Multi Head Attention Class 구현\n",
    "![Multi Head Attention](./img/multi_head_attention.png)"
   ]
  },
  {
   "cell_type": "code",
   "execution_count": 28,
   "metadata": {},
   "outputs": [],
   "source": [
    "\"\"\"multi head attention\"\"\"\n",
    "class MultiHeadAttention(nn.Module):\n",
    "    def __init__(self, d_hidn, n_head, d_head):\n",
    "        super().__init__()\n",
    "        self.d_hidn = d_hidn\n",
    "        self.n_head = n_head\n",
    "        self.d_head = d_head\n",
    "        \n",
    "        # 1, 2, 3번 Linear 선언\n",
    "        self.W_Q = nn.Linear(d_hidn, n_head * d_head)\n",
    "        self.W_K = nn.Linear(d_hidn, n_head * d_head)\n",
    "        self.W_V = nn.Linear(d_hidn, n_head * d_head)\n",
    "        # 4번 선언\n",
    "        self.scaled_dot_attn = ScaleDotProductAttention(d_head)\n",
    "        # 6번 선언\n",
    "        self.linear = nn.Linear(n_head * d_head, d_hidn)\n",
    "        \n",
    "    def forward(self, Q, K, V, attn_mask):\n",
    "        batch_size = Q.size(0)\n",
    "        # 1, 2, 3번 수행\n",
    "        # (bs, n_head, n_q_seq, d_head)\n",
    "        q_s = self.W_Q(Q).view(batch_size, -1, self.n_head, self.d_head).transpose(1,2)\n",
    "        # (bs, n_head, n_k_seq, d_head)\n",
    "        k_s = self.W_K(K).view(batch_size, -1, self.n_head, self.d_head).transpose(1,2)\n",
    "        # (bs, n_head, n_v_seq, d_head)\n",
    "        v_s = self.W_V(V).view(batch_size, -1, self.n_head, self.d_head).transpose(1,2)\n",
    "        \n",
    "        # Scale Dot Product Attention에서 사용되는 mask를 n_head만큼 복사하여 생성\n",
    "        attn_mask = attn_mask.unsqueeze(1).repeat(1, self.n_head, 1, 1) # (bs, n_head, n_q_seq, n_k_seq)\n",
    "        \n",
    "        # 4번 Scale Dot Product Attention 수행\n",
    "        # (bs, n_head, n_q_seq, d_head), (bs, n_head, n_q_seq, n_k_seq)\n",
    "        context, attn_prob = self.scaled_dot_attn(q_s, k_s, v_s, attn_mask)\n",
    "        \n",
    "        # 5번 Scale Dot Product Attention후 Concatenate하는 과정\n",
    "        # (bs, n_head, n_q_seq, h_head * d_head)\n",
    "        context = context.transpose(1, 2).contiguous().view(batch_size, -1, self.n_head * self.d_head)\n",
    "        \n",
    "        # 6번 Linear\n",
    "        output = self.linear(context) # (bs, n_head, n_q_seq, e_embd)\n",
    "        # (bs, n_q_seq, d_hidn), (bs, n_head, n_q_seq, n_k_seq)\n",
    "        return output, attn_prob"
   ]
  },
  {
   "cell_type": "markdown",
   "metadata": {},
   "source": [
    "# Masked Multi-Head Attention\n",
    "MultiHeadAttention Class에 mask를 제외한 모든 부분이 동일하다.  \n",
    "Encoder에서 사용되는 Mask와 다르게 <Pad> 뿐만 아니라 decoder 입력까지 생각을 해서 Mask를 구성해야 한다."
   ]
  },
  {
   "cell_type": "code",
   "execution_count": 29,
   "metadata": {},
   "outputs": [
    {
     "name": "stdout",
     "output_type": "stream",
     "text": [
      "tensor([[False, False, False, False, False, False, False, False,  True,  True],\n",
      "        [False, False, False, False, False, False, False, False,  True,  True],\n",
      "        [False, False, False, False, False, False, False, False,  True,  True],\n",
      "        [False, False, False, False, False, False, False, False,  True,  True],\n",
      "        [False, False, False, False, False, False, False, False,  True,  True],\n",
      "        [False, False, False, False, False, False, False, False,  True,  True],\n",
      "        [False, False, False, False, False, False, False, False,  True,  True],\n",
      "        [False, False, False, False, False, False, False, False,  True,  True],\n",
      "        [False, False, False, False, False, False, False, False,  True,  True],\n",
      "        [False, False, False, False, False, False, False, False,  True,  True]])\n",
      "tensor([[0, 1, 1, 1, 1, 1, 1, 1, 1, 1],\n",
      "        [0, 0, 1, 1, 1, 1, 1, 1, 1, 1],\n",
      "        [0, 0, 0, 1, 1, 1, 1, 1, 1, 1],\n",
      "        [0, 0, 0, 0, 1, 1, 1, 1, 1, 1],\n",
      "        [0, 0, 0, 0, 0, 1, 1, 1, 1, 1],\n",
      "        [0, 0, 0, 0, 0, 0, 1, 1, 1, 1],\n",
      "        [0, 0, 0, 0, 0, 0, 0, 1, 1, 1],\n",
      "        [0, 0, 0, 0, 0, 0, 0, 0, 1, 1],\n",
      "        [0, 0, 0, 0, 0, 0, 0, 0, 0, 1],\n",
      "        [0, 0, 0, 0, 0, 0, 0, 0, 0, 0]])\n",
      "tensor([[False,  True,  True,  True,  True,  True,  True,  True,  True,  True],\n",
      "        [False, False,  True,  True,  True,  True,  True,  True,  True,  True],\n",
      "        [False, False, False,  True,  True,  True,  True,  True,  True,  True],\n",
      "        [False, False, False, False,  True,  True,  True,  True,  True,  True],\n",
      "        [False, False, False, False, False,  True,  True,  True,  True,  True],\n",
      "        [False, False, False, False, False, False,  True,  True,  True,  True],\n",
      "        [False, False, False, False, False, False, False,  True,  True,  True],\n",
      "        [False, False, False, False, False, False, False, False,  True,  True],\n",
      "        [False, False, False, False, False, False, False, False,  True,  True],\n",
      "        [False, False, False, False, False, False, False, False,  True,  True]])\n"
     ]
    }
   ],
   "source": [
    "\"\"\" attention decoder mask \"\"\"\n",
    "def get_attn_decoder_mask(seq):\n",
    "    subsequent_mask = torch.ones_like(seq).unsqueeze(-1).expand(seq.size(0), seq.size(1), seq.size(1))\n",
    "    subsequent_mask = subsequent_mask.triu(diagonal=1) # upper triangular part of a matrix(2-D)\n",
    "    return subsequent_mask\n",
    "\n",
    "\n",
    "Q = input_sums\n",
    "K = input_sums\n",
    "V = input_sums\n",
    "\n",
    "attn_pad_mask = inputs.eq(0).unsqueeze(1).expand(Q.size(0), Q.size(1), K.size(1))\n",
    "print(attn_pad_mask[1])\n",
    "attn_dec_mask = get_attn_decoder_mask(inputs)\n",
    "print(attn_dec_mask[1])\n",
    "attn_mask = torch.gt((attn_pad_mask + attn_dec_mask), 0)\n",
    "print(attn_mask[1])\n",
    "\n",
    "batch_size = Q.size(0)\n",
    "n_head = 2"
   ]
  },
  {
   "cell_type": "code",
   "execution_count": 30,
   "metadata": {},
   "outputs": [
    {
     "name": "stdout",
     "output_type": "stream",
     "text": [
      "torch.Size([3, 10, 128]) torch.Size([3, 2, 10, 10])\n"
     ]
    }
   ],
   "source": [
    "\"\"\"Decoder에 적용되는 Multi Head Attention\"\"\"\n",
    "attention = MultiHeadAttention(d_hidn, n_head, d_head)\n",
    "output, attn_prob = attention(Q, K, V, attn_mask)\n",
    "print(output.size(), attn_prob.size())"
   ]
  },
  {
   "cell_type": "markdown",
   "metadata": {},
   "source": [
    "# FeedForward\n",
    "![FeedForward](./img/feed-forward.png)"
   ]
  },
  {
   "cell_type": "markdown",
   "metadata": {},
   "source": [
    "### f1 (Linear)\n",
    "1번 과정  \n",
    "입력에 비해서 hidden dimension이 4배 커진다."
   ]
  },
  {
   "cell_type": "code",
   "execution_count": 31,
   "metadata": {},
   "outputs": [
    {
     "name": "stdout",
     "output_type": "stream",
     "text": [
      "torch.Size([3, 512, 10])\n"
     ]
    }
   ],
   "source": [
    "conv1 = nn.Conv1d(in_channels=d_hidn, out_channels=d_hidn * 4, kernel_size=1)\n",
    "# (bs, d_hidn * 4, n_seq)\n",
    "ff_1 = conv1(output.transpose(1, 2))\n",
    "print(ff_1.size())"
   ]
  },
  {
   "cell_type": "markdown",
   "metadata": {},
   "source": [
    "### f2 (Activation)\n",
    "초기 논문에는 relu를 사용했으나 gelu가 더 좋다는 것이 발표됨"
   ]
  },
  {
   "cell_type": "code",
   "execution_count": 39,
   "metadata": {},
   "outputs": [],
   "source": [
    "activation = F.gelu\n",
    "ff_2 = activation(ff_1)"
   ]
  },
  {
   "cell_type": "markdown",
   "metadata": {},
   "source": [
    "### f3 (Linear)"
   ]
  },
  {
   "cell_type": "code",
   "execution_count": 40,
   "metadata": {},
   "outputs": [
    {
     "name": "stdout",
     "output_type": "stream",
     "text": [
      "torch.Size([3, 10, 128])\n"
     ]
    }
   ],
   "source": [
    "conv2 = nn.Conv1d(in_channels=d_hidn * 4, out_channels=d_hidn, kernel_size=1)\n",
    "ff_3 = conv2(ff_2).transpose(1, 2)\n",
    "print(ff_3.size())"
   ]
  },
  {
   "cell_type": "code",
   "execution_count": 41,
   "metadata": {},
   "outputs": [],
   "source": [
    "# FeedForward Class 구현\n",
    "\"\"\" feed forward \"\"\"\n",
    "class PoswiseFeedForwardNet(nn.Module):\n",
    "    def __init__(self, d_hidn):\n",
    "        super().__init__()\n",
    "\n",
    "        self.conv1 = nn.Conv1d(in_channels=self.config.d_hidn, out_channels=self.config.d_hidn * 4, kernel_size=1)\n",
    "        self.conv2 = nn.Conv1d(in_channels=self.config.d_hidn * 4, out_channels=self.config.d_hidn, kernel_size=1)\n",
    "        self.active = F.gelu\n",
    "\n",
    "    def forward(self, inputs):\n",
    "        # (bs, d_ff, n_seq)\n",
    "        output = self.active(self.conv1(inputs.transpose(1, 2)))\n",
    "        # (bs, n_seq, d_hidn)\n",
    "        output = self.conv2(output).transpose(1, 2)\n",
    "        # (bs, n_seq, d_hidn)\n",
    "        return output"
   ]
  },
  {
   "cell_type": "markdown",
   "metadata": {},
   "source": [
    "## Model Architecture\n",
    "![도식](./img/encoder-decoder.png)\n",
    "![Attention Model](./img/archi2.png)\n"
   ]
  },
  {
   "cell_type": "code",
   "execution_count": null,
   "metadata": {},
   "outputs": [],
   "source": []
  },
  {
   "cell_type": "markdown",
   "metadata": {},
   "source": [
    "### Position-wise Feed-Forward Networks\n",
    "* Encoder와 Dencoder에서 구성되어 있는 FCN을 설정한다.\n",
    "* 논문에서는 FCN이 each position을 separately and identically한다고 한다.\n",
    "* 두개의 linear transformation과 ReLU로 구성되어 있다."
   ]
  },
  {
   "cell_type": "markdown",
   "metadata": {},
   "source": [
    "## Encoder and Decoder Stacks\n",
    "### Encoder\n",
    "encoder는 **6**개를 연결하여 구성되어 있다."
   ]
  }
 ],
 "metadata": {
  "kernelspec": {
   "display_name": "Python 3",
   "language": "python",
   "name": "python3"
  },
  "language_info": {
   "codemirror_mode": {
    "name": "ipython",
    "version": 3
   },
   "file_extension": ".py",
   "mimetype": "text/x-python",
   "name": "python",
   "nbconvert_exporter": "python",
   "pygments_lexer": "ipython3",
   "version": "3.7.4"
  }
 },
 "nbformat": 4,
 "nbformat_minor": 4
}
